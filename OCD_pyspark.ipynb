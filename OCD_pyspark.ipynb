{
 "cells": [
  {
   "cell_type": "markdown",
   "id": "e5d712ad",
   "metadata": {},
   "source": [
    "## PySpark\n",
    "* A PySpark library to apply SQL-like analysis on a huge amount of structured or semi-structured data. We can also use SQL queries with PySparkSQL. It can also be connected to Apache Hive. HiveQL can be also be applied. PySparkSQL is a wrapper over the PySpark core. PySparkSQL introduced the DataFrame, a tabular representation of structured data that is similar to that of a table from a relational database management system."
   ]
  },
  {
   "cell_type": "code",
   "execution_count": 100,
   "id": "9ba5ecb6",
   "metadata": {},
   "outputs": [
    {
     "name": "stdout",
     "output_type": "stream",
     "text": [
      "Requirement already satisfied: pyspark in c:\\users\\saura\\anaconda3\\lib\\site-packages (3.5.1)\n",
      "Requirement already satisfied: py4j==0.10.9.7 in c:\\users\\saura\\anaconda3\\lib\\site-packages (from pyspark) (0.10.9.7)\n"
     ]
    }
   ],
   "source": [
    "!pip install pyspark"
   ]
  },
  {
   "cell_type": "code",
   "execution_count": 42,
   "id": "d2c88196",
   "metadata": {},
   "outputs": [],
   "source": [
    "import pyspark"
   ]
  },
  {
   "cell_type": "code",
   "execution_count": 43,
   "id": "ce171f86",
   "metadata": {},
   "outputs": [],
   "source": [
    "import pandas as pd\n",
    "df = pd.read_csv(\"C:\\\\Users\\\\saura\\\\Downloads\\\\covid_toy.csv\")"
   ]
  },
  {
   "cell_type": "code",
   "execution_count": 44,
   "id": "c67101d1",
   "metadata": {},
   "outputs": [
    {
     "data": {
      "text/html": [
       "<div>\n",
       "<style scoped>\n",
       "    .dataframe tbody tr th:only-of-type {\n",
       "        vertical-align: middle;\n",
       "    }\n",
       "\n",
       "    .dataframe tbody tr th {\n",
       "        vertical-align: top;\n",
       "    }\n",
       "\n",
       "    .dataframe thead th {\n",
       "        text-align: right;\n",
       "    }\n",
       "</style>\n",
       "<table border=\"1\" class=\"dataframe\">\n",
       "  <thead>\n",
       "    <tr style=\"text-align: right;\">\n",
       "      <th></th>\n",
       "      <th>age</th>\n",
       "      <th>gender</th>\n",
       "      <th>fever</th>\n",
       "      <th>cough</th>\n",
       "      <th>city</th>\n",
       "      <th>has_covid</th>\n",
       "    </tr>\n",
       "  </thead>\n",
       "  <tbody>\n",
       "    <tr>\n",
       "      <th>0</th>\n",
       "      <td>60.0</td>\n",
       "      <td>Male</td>\n",
       "      <td>103.0</td>\n",
       "      <td>Mild</td>\n",
       "      <td>Kolkata</td>\n",
       "      <td>No</td>\n",
       "    </tr>\n",
       "    <tr>\n",
       "      <th>1</th>\n",
       "      <td>27.0</td>\n",
       "      <td>Male</td>\n",
       "      <td>100.0</td>\n",
       "      <td>Mild</td>\n",
       "      <td>Delhi</td>\n",
       "      <td>Yes</td>\n",
       "    </tr>\n",
       "    <tr>\n",
       "      <th>2</th>\n",
       "      <td>42.0</td>\n",
       "      <td>Male</td>\n",
       "      <td>101.0</td>\n",
       "      <td>Mild</td>\n",
       "      <td>Delhi</td>\n",
       "      <td>No</td>\n",
       "    </tr>\n",
       "    <tr>\n",
       "      <th>3</th>\n",
       "      <td>31.0</td>\n",
       "      <td>Female</td>\n",
       "      <td>98.0</td>\n",
       "      <td>Mild</td>\n",
       "      <td>Kolkata</td>\n",
       "      <td>NaN</td>\n",
       "    </tr>\n",
       "    <tr>\n",
       "      <th>4</th>\n",
       "      <td>65.0</td>\n",
       "      <td>Female</td>\n",
       "      <td>101.0</td>\n",
       "      <td>Mild</td>\n",
       "      <td>Mumbai</td>\n",
       "      <td>No</td>\n",
       "    </tr>\n",
       "  </tbody>\n",
       "</table>\n",
       "</div>"
      ],
      "text/plain": [
       "    age  gender  fever cough     city has_covid\n",
       "0  60.0    Male  103.0  Mild  Kolkata        No\n",
       "1  27.0    Male  100.0  Mild    Delhi       Yes\n",
       "2  42.0    Male  101.0  Mild    Delhi        No\n",
       "3  31.0  Female   98.0  Mild  Kolkata       NaN\n",
       "4  65.0  Female  101.0  Mild   Mumbai        No"
      ]
     },
     "execution_count": 44,
     "metadata": {},
     "output_type": "execute_result"
    }
   ],
   "source": [
    "df.head()"
   ]
  },
  {
   "cell_type": "code",
   "execution_count": 45,
   "id": "0ff5ae47",
   "metadata": {},
   "outputs": [],
   "source": [
    "from pyspark.sql import SparkSession"
   ]
  },
  {
   "cell_type": "code",
   "execution_count": 46,
   "id": "cdf6f282",
   "metadata": {},
   "outputs": [],
   "source": [
    "spark = SparkSession.builder.appName(\"OCD1\").getOrCreate()"
   ]
  },
  {
   "cell_type": "code",
   "execution_count": 47,
   "id": "d5143187",
   "metadata": {},
   "outputs": [
    {
     "data": {
      "text/html": [
       "\n",
       "            <div>\n",
       "                <p><b>SparkSession - in-memory</b></p>\n",
       "                \n",
       "        <div>\n",
       "            <p><b>SparkContext</b></p>\n",
       "\n",
       "            <p><a href=\"http://localhost:4040\">Spark UI</a></p>\n",
       "\n",
       "            <dl>\n",
       "              <dt>Version</dt>\n",
       "                <dd><code>v3.5.1</code></dd>\n",
       "              <dt>Master</dt>\n",
       "                <dd><code>local[*]</code></dd>\n",
       "              <dt>AppName</dt>\n",
       "                <dd><code>OCD1</code></dd>\n",
       "            </dl>\n",
       "        </div>\n",
       "        \n",
       "            </div>\n",
       "        "
      ],
      "text/plain": [
       "<pyspark.sql.session.SparkSession at 0x1bcfaa2a790>"
      ]
     },
     "execution_count": 47,
     "metadata": {},
     "output_type": "execute_result"
    }
   ],
   "source": [
    "spark"
   ]
  },
  {
   "cell_type": "code",
   "execution_count": 48,
   "id": "8036eb03",
   "metadata": {},
   "outputs": [],
   "source": [
    "df1 = spark.read.csv(\"C:\\\\Users\\\\saura\\\\Downloads\\\\covid_toy.csv\")"
   ]
  },
  {
   "cell_type": "code",
   "execution_count": 49,
   "id": "f67c5d2c",
   "metadata": {},
   "outputs": [
    {
     "data": {
      "text/plain": [
       "DataFrame[_c0: string, _c1: string, _c2: string, _c3: string, _c4: string, _c5: string]"
      ]
     },
     "execution_count": 49,
     "metadata": {},
     "output_type": "execute_result"
    }
   ],
   "source": [
    "df1"
   ]
  },
  {
   "cell_type": "code",
   "execution_count": 50,
   "id": "6f9be728",
   "metadata": {},
   "outputs": [
    {
     "name": "stdout",
     "output_type": "stream",
     "text": [
      "+---+------+-----+-----+-------+---------+\n",
      "|_c0|   _c1|  _c2|  _c3|    _c4|      _c5|\n",
      "+---+------+-----+-----+-------+---------+\n",
      "|age|gender|fever|cough|   city|has_covid|\n",
      "| 60|  Male|  103| Mild|Kolkata|       No|\n",
      "| 27|  Male|  100| Mild|  Delhi|      Yes|\n",
      "| 42|  Male|  101| Mild|  Delhi|       No|\n",
      "| 31|Female|   98| Mild|Kolkata|     NULL|\n",
      "+---+------+-----+-----+-------+---------+\n",
      "only showing top 5 rows\n",
      "\n"
     ]
    }
   ],
   "source": [
    "df1.show(5)"
   ]
  },
  {
   "cell_type": "code",
   "execution_count": 51,
   "id": "edb37948",
   "metadata": {},
   "outputs": [],
   "source": [
    "df1 = spark.read.option(\"header\", True).csv(\"C:\\\\Users\\\\saura\\\\Downloads\\\\covid_toy.csv\")"
   ]
  },
  {
   "cell_type": "code",
   "execution_count": 52,
   "id": "d2a4f55e",
   "metadata": {},
   "outputs": [
    {
     "name": "stdout",
     "output_type": "stream",
     "text": [
      "+----+------+-----+------+---------+---------+\n",
      "| age|gender|fever| cough|     city|has_covid|\n",
      "+----+------+-----+------+---------+---------+\n",
      "|  60|  Male|  103|  Mild|  Kolkata|       No|\n",
      "|  27|  Male|  100|  Mild|    Delhi|      Yes|\n",
      "|  42|  Male|  101|  Mild|    Delhi|       No|\n",
      "|  31|Female|   98|  Mild|  Kolkata|     NULL|\n",
      "|  65|Female|  101|  Mild|   Mumbai|       No|\n",
      "|NULL|Female| NULL|  Mild|Bangalore|      Yes|\n",
      "|  14|  NULL|  101|Strong|Bangalore|       No|\n",
      "|  20|Female| NULL|Strong|   Mumbai|      Yes|\n",
      "|  19|Female|  100|Strong|Bangalore|     NULL|\n",
      "|  64|Female|  101|  Mild|    Delhi|       No|\n",
      "|  75|Female| NULL|  Mild|    Delhi|       No|\n",
      "|  65|Female|   98|  Mild|   Mumbai|      Yes|\n",
      "|  25|Female|   99|Strong|  Kolkata|       No|\n",
      "|  64|  NULL|  102|  Mild|Bangalore|      Yes|\n",
      "|  51|  Male|  104|  Mild|Bangalore|       No|\n",
      "|  70|  Male|  103|Strong|  Kolkata|      Yes|\n",
      "|  69|Female|  103|  Mild|  Kolkata|      Yes|\n",
      "|  40|Female|   98|Strong|    Delhi|       No|\n",
      "|  64|Female|   98|  Mild|Bangalore|      Yes|\n",
      "|  42|Female| NULL|Strong|Bangalore|      Yes|\n",
      "+----+------+-----+------+---------+---------+\n",
      "only showing top 20 rows\n",
      "\n"
     ]
    }
   ],
   "source": [
    "df1.show()"
   ]
  },
  {
   "cell_type": "code",
   "execution_count": 53,
   "id": "fdbe5ab9",
   "metadata": {},
   "outputs": [
    {
     "name": "stdout",
     "output_type": "stream",
     "text": [
      "root\n",
      " |-- age: string (nullable = true)\n",
      " |-- gender: string (nullable = true)\n",
      " |-- fever: string (nullable = true)\n",
      " |-- cough: string (nullable = true)\n",
      " |-- city: string (nullable = true)\n",
      " |-- has_covid: string (nullable = true)\n",
      "\n"
     ]
    }
   ],
   "source": [
    "df1.printSchema()"
   ]
  },
  {
   "cell_type": "code",
   "execution_count": 54,
   "id": "27152d62",
   "metadata": {},
   "outputs": [
    {
     "data": {
      "text/plain": [
       "pyspark.sql.dataframe.DataFrame"
      ]
     },
     "execution_count": 54,
     "metadata": {},
     "output_type": "execute_result"
    }
   ],
   "source": [
    "type(df1)"
   ]
  },
  {
   "cell_type": "code",
   "execution_count": 55,
   "id": "d76d98bf",
   "metadata": {},
   "outputs": [
    {
     "data": {
      "text/plain": [
       "['age', 'gender', 'fever', 'cough', 'city', 'has_covid']"
      ]
     },
     "execution_count": 55,
     "metadata": {},
     "output_type": "execute_result"
    }
   ],
   "source": [
    "df1.columns"
   ]
  },
  {
   "cell_type": "code",
   "execution_count": 56,
   "id": "522cbb8f",
   "metadata": {},
   "outputs": [
    {
     "data": {
      "text/html": [
       "<div>\n",
       "<style scoped>\n",
       "    .dataframe tbody tr th:only-of-type {\n",
       "        vertical-align: middle;\n",
       "    }\n",
       "\n",
       "    .dataframe tbody tr th {\n",
       "        vertical-align: top;\n",
       "    }\n",
       "\n",
       "    .dataframe thead th {\n",
       "        text-align: right;\n",
       "    }\n",
       "</style>\n",
       "<table border=\"1\" class=\"dataframe\">\n",
       "  <thead>\n",
       "    <tr style=\"text-align: right;\">\n",
       "      <th></th>\n",
       "      <th>age</th>\n",
       "      <th>gender</th>\n",
       "      <th>fever</th>\n",
       "      <th>cough</th>\n",
       "      <th>city</th>\n",
       "      <th>has_covid</th>\n",
       "    </tr>\n",
       "  </thead>\n",
       "  <tbody>\n",
       "    <tr>\n",
       "      <th>0</th>\n",
       "      <td>60.0</td>\n",
       "      <td>Male</td>\n",
       "      <td>103.0</td>\n",
       "      <td>Mild</td>\n",
       "      <td>Kolkata</td>\n",
       "      <td>No</td>\n",
       "    </tr>\n",
       "    <tr>\n",
       "      <th>1</th>\n",
       "      <td>27.0</td>\n",
       "      <td>Male</td>\n",
       "      <td>100.0</td>\n",
       "      <td>Mild</td>\n",
       "      <td>Delhi</td>\n",
       "      <td>Yes</td>\n",
       "    </tr>\n",
       "    <tr>\n",
       "      <th>2</th>\n",
       "      <td>42.0</td>\n",
       "      <td>Male</td>\n",
       "      <td>101.0</td>\n",
       "      <td>Mild</td>\n",
       "      <td>Delhi</td>\n",
       "      <td>No</td>\n",
       "    </tr>\n",
       "    <tr>\n",
       "      <th>3</th>\n",
       "      <td>31.0</td>\n",
       "      <td>Female</td>\n",
       "      <td>98.0</td>\n",
       "      <td>Mild</td>\n",
       "      <td>Kolkata</td>\n",
       "      <td>NaN</td>\n",
       "    </tr>\n",
       "    <tr>\n",
       "      <th>4</th>\n",
       "      <td>65.0</td>\n",
       "      <td>Female</td>\n",
       "      <td>101.0</td>\n",
       "      <td>Mild</td>\n",
       "      <td>Mumbai</td>\n",
       "      <td>No</td>\n",
       "    </tr>\n",
       "  </tbody>\n",
       "</table>\n",
       "</div>"
      ],
      "text/plain": [
       "    age  gender  fever cough     city has_covid\n",
       "0  60.0    Male  103.0  Mild  Kolkata        No\n",
       "1  27.0    Male  100.0  Mild    Delhi       Yes\n",
       "2  42.0    Male  101.0  Mild    Delhi        No\n",
       "3  31.0  Female   98.0  Mild  Kolkata       NaN\n",
       "4  65.0  Female  101.0  Mild   Mumbai        No"
      ]
     },
     "execution_count": 56,
     "metadata": {},
     "output_type": "execute_result"
    }
   ],
   "source": [
    "df.head()"
   ]
  },
  {
   "cell_type": "code",
   "execution_count": 57,
   "id": "2ac2c11a",
   "metadata": {},
   "outputs": [
    {
     "name": "stdout",
     "output_type": "stream",
     "text": [
      "+-------+---------+\n",
      "|   city|has_covid|\n",
      "+-------+---------+\n",
      "|Kolkata|       No|\n",
      "|  Delhi|      Yes|\n",
      "|  Delhi|       No|\n",
      "|Kolkata|     NULL|\n",
      "| Mumbai|       No|\n",
      "+-------+---------+\n",
      "only showing top 5 rows\n",
      "\n"
     ]
    }
   ],
   "source": [
    "df1.select('city','has_covid').show(5)"
   ]
  },
  {
   "cell_type": "code",
   "execution_count": 58,
   "id": "5fa27a8b",
   "metadata": {},
   "outputs": [
    {
     "data": {
      "text/plain": [
       "[('age', 'string'),\n",
       " ('gender', 'string'),\n",
       " ('fever', 'string'),\n",
       " ('cough', 'string'),\n",
       " ('city', 'string'),\n",
       " ('has_covid', 'string')]"
      ]
     },
     "execution_count": 58,
     "metadata": {},
     "output_type": "execute_result"
    }
   ],
   "source": [
    "df1.dtypes"
   ]
  },
  {
   "cell_type": "code",
   "execution_count": 59,
   "id": "c92e74f9",
   "metadata": {},
   "outputs": [
    {
     "name": "stdout",
     "output_type": "stream",
     "text": [
      "+-------+------------------+------+------------------+------+---------+---------+\n",
      "|summary|               age|gender|             fever| cough|     city|has_covid|\n",
      "+-------+------------------+------+------------------+------+---------+---------+\n",
      "|  count|                99|    98|                90|   100|       98|       97|\n",
      "|   mean| 43.81818181818182|  NULL|100.84444444444445|  NULL|     NULL|     NULL|\n",
      "| stddev|24.677248728813904|  NULL| 2.054926178236703|  NULL|     NULL|     NULL|\n",
      "|    min|                10|Female|               100|  Mild|Bangalore|       No|\n",
      "|    max|                83|  Male|                99|Strong|   Mumbai|      Yes|\n",
      "+-------+------------------+------+------------------+------+---------+---------+\n",
      "\n"
     ]
    }
   ],
   "source": [
    "df1.describe().show()"
   ]
  },
  {
   "cell_type": "code",
   "execution_count": 60,
   "id": "a591599e",
   "metadata": {},
   "outputs": [],
   "source": [
    "df1 = df1.withColumn(\"fever\",\n",
    "                    df1[\"fever\"].cast('float'))\n",
    "df1 = df1.withColumn(\"age\",\n",
    "                    df1[\"age\"].cast('int'))"
   ]
  },
  {
   "cell_type": "code",
   "execution_count": 61,
   "id": "60eb0de7",
   "metadata": {},
   "outputs": [
    {
     "data": {
      "text/plain": [
       "[('age', 'int'),\n",
       " ('gender', 'string'),\n",
       " ('fever', 'float'),\n",
       " ('cough', 'string'),\n",
       " ('city', 'string'),\n",
       " ('has_covid', 'string')]"
      ]
     },
     "execution_count": 61,
     "metadata": {},
     "output_type": "execute_result"
    }
   ],
   "source": [
    "df1.dtypes"
   ]
  },
  {
   "cell_type": "code",
   "execution_count": 62,
   "id": "c99d8d6c",
   "metadata": {},
   "outputs": [
    {
     "name": "stdout",
     "output_type": "stream",
     "text": [
      "+---+------+-----+-----+-------+---------+----------+\n",
      "|age|gender|fever|cough|   city|has_covid|rise_fever|\n",
      "+---+------+-----+-----+-------+---------+----------+\n",
      "| 60|  Male|103.0| Mild|Kolkata|       No|     108.0|\n",
      "| 27|  Male|100.0| Mild|  Delhi|      Yes|     105.0|\n",
      "| 42|  Male|101.0| Mild|  Delhi|       No|     106.0|\n",
      "| 31|Female| 98.0| Mild|Kolkata|     NULL|     103.0|\n",
      "| 65|Female|101.0| Mild| Mumbai|       No|     106.0|\n",
      "+---+------+-----+-----+-------+---------+----------+\n",
      "only showing top 5 rows\n",
      "\n"
     ]
    }
   ],
   "source": [
    "df1.withColumn(\"rise_fever\",df1[\"fever\"]+5).show(5)"
   ]
  },
  {
   "cell_type": "code",
   "execution_count": 63,
   "id": "8e5c0da7",
   "metadata": {},
   "outputs": [
    {
     "name": "stdout",
     "output_type": "stream",
     "text": [
      "+---+------+-----+-------+---------+\n",
      "|age|gender|cough|   city|has_covid|\n",
      "+---+------+-----+-------+---------+\n",
      "| 60|  Male| Mild|Kolkata|       No|\n",
      "| 27|  Male| Mild|  Delhi|      Yes|\n",
      "| 42|  Male| Mild|  Delhi|       No|\n",
      "| 31|Female| Mild|Kolkata|     NULL|\n",
      "| 65|Female| Mild| Mumbai|       No|\n",
      "+---+------+-----+-------+---------+\n",
      "only showing top 5 rows\n",
      "\n"
     ]
    }
   ],
   "source": [
    "df1.drop('fever').show(5)"
   ]
  },
  {
   "cell_type": "code",
   "execution_count": 64,
   "id": "99247a44",
   "metadata": {},
   "outputs": [
    {
     "name": "stdout",
     "output_type": "stream",
     "text": [
      "+---+------+-----+-----+-------+---------+\n",
      "|age|gender|fever|cough| region|has_covid|\n",
      "+---+------+-----+-----+-------+---------+\n",
      "| 60|  Male|103.0| Mild|Kolkata|       No|\n",
      "| 27|  Male|100.0| Mild|  Delhi|      Yes|\n",
      "+---+------+-----+-----+-------+---------+\n",
      "only showing top 2 rows\n",
      "\n"
     ]
    }
   ],
   "source": [
    "df1.withColumnRenamed('city','region').show(2)"
   ]
  },
  {
   "cell_type": "code",
   "execution_count": 65,
   "id": "ca76eb48",
   "metadata": {},
   "outputs": [
    {
     "data": {
      "text/plain": [
       "10"
      ]
     },
     "execution_count": 65,
     "metadata": {},
     "output_type": "execute_result"
    }
   ],
   "source": [
    "df1.where(df1.fever.isNull()).count()"
   ]
  },
  {
   "cell_type": "code",
   "execution_count": 66,
   "id": "0930b799",
   "metadata": {},
   "outputs": [
    {
     "name": "stdout",
     "output_type": "stream",
     "text": [
      "+---+------+-----+-----+-------+---------+\n",
      "|age|gender|fever|cough|   city|has_covid|\n",
      "+---+------+-----+-----+-------+---------+\n",
      "| 60|  Male|103.0| Mild|Kolkata|       No|\n",
      "| 27|  Male|100.0| Mild|  Delhi|      Yes|\n",
      "| 42|  Male|101.0| Mild|  Delhi|       No|\n",
      "| 65|Female|101.0| Mild| Mumbai|       No|\n",
      "| 64|Female|101.0| Mild|  Delhi|       No|\n",
      "+---+------+-----+-----+-------+---------+\n",
      "only showing top 5 rows\n",
      "\n"
     ]
    }
   ],
   "source": [
    "df1.na.drop().show(5)"
   ]
  },
  {
   "cell_type": "code",
   "execution_count": 72,
   "id": "27c24c63",
   "metadata": {},
   "outputs": [
    {
     "name": "stdout",
     "output_type": "stream",
     "text": [
      "+---+------+-----+------+---------+---------+\n",
      "|age|gender|fever| cough|     city|has_covid|\n",
      "+---+------+-----+------+---------+---------+\n",
      "| 60|  Male|103.0|  Mild|  Kolkata|       No|\n",
      "| 27|  Male|100.0|  Mild|    Delhi|      Yes|\n",
      "| 42|  Male|101.0|  Mild|    Delhi|       No|\n",
      "| 65|Female|101.0|  Mild|   Mumbai|       No|\n",
      "| 64|Female|101.0|  Mild|    Delhi|       No|\n",
      "| 65|Female| 98.0|  Mild|   Mumbai|      Yes|\n",
      "| 25|Female| 99.0|Strong|  Kolkata|       No|\n",
      "| 51|  Male|104.0|  Mild|Bangalore|       No|\n",
      "+---+------+-----+------+---------+---------+\n",
      "only showing top 8 rows\n",
      "\n"
     ]
    }
   ],
   "source": [
    "df1.na.drop(how=\"any\").show(8)"
   ]
  },
  {
   "cell_type": "code",
   "execution_count": 68,
   "id": "ee545aaf",
   "metadata": {},
   "outputs": [
    {
     "name": "stdout",
     "output_type": "stream",
     "text": [
      "+---+------+-----+-----+-------+---------+\n",
      "|age|gender|fever|cough|   city|has_covid|\n",
      "+---+------+-----+-----+-------+---------+\n",
      "| 60|  Male|103.0| Mild|Kolkata|       No|\n",
      "| 27|  Male|100.0| Mild|  Delhi|      Yes|\n",
      "| 42|  Male|101.0| Mild|  Delhi|       No|\n",
      "| 31|Female| 98.0| Mild|Kolkata|     NULL|\n",
      "| 65|Female|101.0| Mild| Mumbai|       No|\n",
      "+---+------+-----+-----+-------+---------+\n",
      "only showing top 5 rows\n",
      "\n"
     ]
    }
   ],
   "source": [
    "df1.na.drop(how=\"any\",subset=[\"fever\"]).show(5)"
   ]
  },
  {
   "cell_type": "code",
   "execution_count": 74,
   "id": "e9dae501",
   "metadata": {},
   "outputs": [
    {
     "name": "stdout",
     "output_type": "stream",
     "text": [
      "+---+------+-----+-----+-------+---------+\n",
      "|age|gender|fever|cough|   city|has_covid|\n",
      "+---+------+-----+-----+-------+---------+\n",
      "| 60|  Male|103.0| Mild|Kolkata|       No|\n",
      "| 27|  Male|100.0| Mild|  Delhi|      Yes|\n",
      "| 42|  Male|101.0| Mild|  Delhi|       No|\n",
      "| 31|Female| 98.0| Mild|Kolkata|  missing|\n",
      "| 65|Female|101.0| Mild| Mumbai|       No|\n",
      "+---+------+-----+-----+-------+---------+\n",
      "only showing top 5 rows\n",
      "\n"
     ]
    }
   ],
   "source": [
    "df1.na.fill(\"missing\").show(5)"
   ]
  },
  {
   "cell_type": "code",
   "execution_count": 79,
   "id": "686cf3ee",
   "metadata": {},
   "outputs": [
    {
     "name": "stdout",
     "output_type": "stream",
     "text": [
      "+---+------+-----+------+---------+---------+\n",
      "|age|gender|fever| cough|     city|has_covid|\n",
      "+---+------+-----+------+---------+---------+\n",
      "| 60|  Male|103.0|  Mild|  Kolkata|       No|\n",
      "| 27|  Male|100.0|  Mild|    Delhi|      Yes|\n",
      "| 42|  Male|101.0|  Mild|    Delhi|       No|\n",
      "| 31|Female| 98.0|  Mild|  Kolkata|     NULL|\n",
      "| 65|Female|101.0|  Mild|   Mumbai|       No|\n",
      "|  0|Female|  0.0|  Mild|Bangalore|      Yes|\n",
      "| 14|  NULL|101.0|Strong|Bangalore|       No|\n",
      "+---+------+-----+------+---------+---------+\n",
      "only showing top 7 rows\n",
      "\n"
     ]
    }
   ],
   "source": [
    "df1.na.fill(0,['age','fever']).show(7)"
   ]
  },
  {
   "cell_type": "code",
   "execution_count": 80,
   "id": "e4ed317d",
   "metadata": {},
   "outputs": [],
   "source": [
    "from pyspark.ml.feature import Imputer"
   ]
  },
  {
   "cell_type": "code",
   "execution_count": 85,
   "id": "dd1b79e9",
   "metadata": {},
   "outputs": [],
   "source": [
    "imputer = Imputer(inputCols=[\"age\",\"fever\"],\n",
    "                 outputCols=[\"{}_imputed\".format(c) for c in [\"age\",\"fever\"]]).setStrategy(\"median\")"
   ]
  },
  {
   "cell_type": "code",
   "execution_count": 86,
   "id": "d8ae0992",
   "metadata": {},
   "outputs": [
    {
     "name": "stdout",
     "output_type": "stream",
     "text": [
      "+----+------+-----+------+---------+---------+-----------+-------------+\n",
      "| age|gender|fever| cough|     city|has_covid|age_imputed|fever_imputed|\n",
      "+----+------+-----+------+---------+---------+-----------+-------------+\n",
      "|  60|  Male|103.0|  Mild|  Kolkata|       No|         60|        103.0|\n",
      "|  27|  Male|100.0|  Mild|    Delhi|      Yes|         27|        100.0|\n",
      "|  42|  Male|101.0|  Mild|    Delhi|       No|         42|        101.0|\n",
      "|  31|Female| 98.0|  Mild|  Kolkata|     NULL|         31|         98.0|\n",
      "|  65|Female|101.0|  Mild|   Mumbai|       No|         65|        101.0|\n",
      "|NULL|Female| NULL|  Mild|Bangalore|      Yes|         44|        101.0|\n",
      "|  14|  NULL|101.0|Strong|Bangalore|       No|         14|        101.0|\n",
      "|  20|Female| NULL|Strong|   Mumbai|      Yes|         20|        101.0|\n",
      "|  19|Female|100.0|Strong|Bangalore|     NULL|         19|        100.0|\n",
      "|  64|Female|101.0|  Mild|    Delhi|       No|         64|        101.0|\n",
      "|  75|Female| NULL|  Mild|    Delhi|       No|         75|        101.0|\n",
      "|  65|Female| 98.0|  Mild|   Mumbai|      Yes|         65|         98.0|\n",
      "|  25|Female| 99.0|Strong|  Kolkata|       No|         25|         99.0|\n",
      "|  64|  NULL|102.0|  Mild|Bangalore|      Yes|         64|        102.0|\n",
      "|  51|  Male|104.0|  Mild|Bangalore|       No|         51|        104.0|\n",
      "|  70|  Male|103.0|Strong|  Kolkata|      Yes|         70|        103.0|\n",
      "|  69|Female|103.0|  Mild|  Kolkata|      Yes|         69|        103.0|\n",
      "|  40|Female| 98.0|Strong|    Delhi|       No|         40|         98.0|\n",
      "|  64|Female| 98.0|  Mild|Bangalore|      Yes|         64|         98.0|\n",
      "|  42|Female| NULL|Strong|Bangalore|      Yes|         42|        101.0|\n",
      "+----+------+-----+------+---------+---------+-----------+-------------+\n",
      "only showing top 20 rows\n",
      "\n"
     ]
    }
   ],
   "source": [
    "imputer.fit(df1).transform(df1).show()"
   ]
  },
  {
   "cell_type": "code",
   "execution_count": 95,
   "id": "1eaad480",
   "metadata": {},
   "outputs": [
    {
     "name": "stdout",
     "output_type": "stream",
     "text": [
      "+---+------+-----+------+---------+---------+\n",
      "|age|gender|fever| cough|     city|has_covid|\n",
      "+---+------+-----+------+---------+---------+\n",
      "| 75|Female| NULL|  Mild|    Delhi|       No|\n",
      "| 70|  Male|103.0|Strong|  Kolkata|      Yes|\n",
      "| 73|  Male| 98.0|  Mild|Bangalore|     NULL|\n",
      "| 71|Female| 98.0|Strong|  Kolkata|      Yes|\n",
      "| 80|Female| 98.0|  Mild|    Delhi|      Yes|\n",
      "+---+------+-----+------+---------+---------+\n",
      "only showing top 5 rows\n",
      "\n"
     ]
    }
   ],
   "source": [
    "df1.filter(\"age >= 70\").show(5)"
   ]
  },
  {
   "cell_type": "code",
   "execution_count": 96,
   "id": "4ea0030a",
   "metadata": {},
   "outputs": [
    {
     "name": "stdout",
     "output_type": "stream",
     "text": [
      "+---+---------+\n",
      "|age|has_covid|\n",
      "+---+---------+\n",
      "| 75|       No|\n",
      "| 70|      Yes|\n",
      "| 73|     NULL|\n",
      "| 71|      Yes|\n",
      "| 80|      Yes|\n",
      "+---+---------+\n",
      "only showing top 5 rows\n",
      "\n"
     ]
    }
   ],
   "source": [
    "df1.filter(\"age >= 70\").select([\"age\",\"has_covid\"]).show(5)"
   ]
  },
  {
   "cell_type": "code",
   "execution_count": 99,
   "id": "3570ea5f",
   "metadata": {},
   "outputs": [
    {
     "name": "stdout",
     "output_type": "stream",
     "text": [
      "+---+------+-----+------+---------+---------+\n",
      "|age|gender|fever| cough|     city|has_covid|\n",
      "+---+------+-----+------+---------+---------+\n",
      "| 60|  Male|103.0|  Mild|  Kolkata|       No|\n",
      "| 27|  Male|100.0|  Mild|    Delhi|      Yes|\n",
      "| 42|  Male|101.0|  Mild|    Delhi|       No|\n",
      "| 65|Female|101.0|  Mild|   Mumbai|       No|\n",
      "| 14|  NULL|101.0|Strong|Bangalore|       No|\n",
      "+---+------+-----+------+---------+---------+\n",
      "only showing top 5 rows\n",
      "\n"
     ]
    }
   ],
   "source": [
    "df1.filter((df1[\"fever\"] <= 105) & \n",
    "           (df1[\"fever\"] >= 100)).show(5)"
   ]
  },
  {
   "cell_type": "code",
   "execution_count": null,
   "id": "bc9a621f",
   "metadata": {},
   "outputs": [],
   "source": []
  }
 ],
 "metadata": {
  "kernelspec": {
   "display_name": "Python 3 (ipykernel)",
   "language": "python",
   "name": "python3"
  },
  "language_info": {
   "codemirror_mode": {
    "name": "ipython",
    "version": 3
   },
   "file_extension": ".py",
   "mimetype": "text/x-python",
   "name": "python",
   "nbconvert_exporter": "python",
   "pygments_lexer": "ipython3",
   "version": "3.11.3"
  }
 },
 "nbformat": 4,
 "nbformat_minor": 5
}
